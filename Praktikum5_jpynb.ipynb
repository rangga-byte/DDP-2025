{
  "nbformat": 4,
  "nbformat_minor": 0,
  "metadata": {
    "colab": {
      "provenance": [],
      "authorship_tag": "ABX9TyPmDnVzfjZj9ziIg28OSYqV",
      "include_colab_link": true
    },
    "kernelspec": {
      "name": "python3",
      "display_name": "Python 3"
    },
    "language_info": {
      "name": "python"
    }
  },
  "cells": [
    {
      "cell_type": "markdown",
      "metadata": {
        "id": "view-in-github",
        "colab_type": "text"
      },
      "source": [
        "<a href=\"https://colab.research.google.com/github/rangga-byte/DDP-2025/blob/main/Praktikum5_jpynb.ipynb\" target=\"_parent\"><img src=\"https://colab.research.google.com/assets/colab-badge.svg\" alt=\"Open In Colab\"/></a>"
      ]
    },
    {
      "cell_type": "code",
      "source": [
        "namaKendaraan = \"beat ember\"\n",
        "jenisKendaraan = \"motor\"\n",
        "ccKendaraan = \"150\"\n",
        "warnaKendaraan = \"biru\"\n",
        "rodaKendaraan = 2\n",
        "\n",
        "data_kendaraan=[namaKendaraan, jenisKendaraan, ccKendaraan, warnaKendaraan, rodaKendaraan]\n",
        "\n",
        "print(data_kendaraan)\n",
        "hargaKendaraan = 4000\n",
        "tipeKendaraan = \"matic\"\n",
        "\n",
        "data_kendaraan.append(hargaKendaraan)\n",
        "data_kendaraan.append(tipeKendaraan)\n",
        "print(data_kendaraan)\n",
        "\n",
        "merkKendaraan = \"Honda\"\n",
        "data_kendaraan.insert(2, merkKendaraan)\n",
        "print(data_kendaraan)"
      ],
      "metadata": {
        "colab": {
          "base_uri": "https://localhost:8080/"
        },
        "id": "4SThqFwx6BNl",
        "outputId": "92c77127-6338-43e8-a713-528f78f64b72"
      },
      "execution_count": 23,
      "outputs": [
        {
          "output_type": "stream",
          "name": "stdout",
          "text": [
            "['beat ember', 'motor', '150', 'biru', 2]\n",
            "['beat ember', 'motor', '150', 'biru', 2, 4000, 'matic']\n",
            "['beat ember', 'motor', 'Honda', '150', 'biru', 2, 4000, 'matic']\n"
          ]
        }
      ]
    },
    {
      "cell_type": "code",
      "source": [
        "pilihan = input(\"\"\"\n",
        "silakan pilih menu yang diinginkan\n",
        "==================================\n",
        "1. Luas Persegi\n",
        "2. Luas Lingkaran\n",
        "3. Luas Segitiga\n",
        "===================================\n",
        "Kirimkan hanya angka saja;\n",
        "jawaban = \"\"\")\n",
        "\n",
        "\n",
        "match pilihan:\n",
        "  case \"1\":\n",
        "    sisi = int(input(\"sisi = \"))\n",
        "    luas = sisi * sisi\n",
        "\n",
        "    print(f\"luas persegi dengan sisi (sisi) adalah (luas)\")\n",
        "    # luas persegi\n",
        "  case \"2\":\n",
        "    # luas lingkaran\n",
        "    # phi * jarijari**2\n",
        "    r = int(input(\"jarijari = \"))\n",
        "    luas = 3.14 *r*r\n",
        "    print(f\"luas lingkaran adalah (luas)\")\n",
        "  case \"3\":\n",
        "    # luas segitiga\n",
        "    # (alas * tinggi)/2\n",
        "    alas = int(input(\"alas = \"))\n",
        "    tinggi =int(input(\"tinggi = \"))\n",
        "    luas = 0.5*alas*tinggi\n",
        "    print(f\"luas lingkaran adalah (luas)\")\n",
        "  case _:\n",
        "    print(\"ya nda tau kok tanya saya\")"
      ],
      "metadata": {
        "colab": {
          "base_uri": "https://localhost:8080/"
        },
        "id": "gHipfKW99RV0",
        "outputId": "bb7ff64e-09aa-42af-8f42-7708f4247903"
      },
      "execution_count": 38,
      "outputs": [
        {
          "output_type": "stream",
          "name": "stdout",
          "text": [
            "\n",
            "silakan pilih menu yang diinginkan\n",
            "==================================\n",
            "1. Luas Persegi\n",
            "2. Luas Lingkaran\n",
            "3. Luas Segitiga\n",
            "===================================\n",
            "Kirimkan hanya angka saja;\n",
            "jawaban = 1\n",
            "sisi = 20\n",
            "luas persegi dengan sisi (sisi) adalah (luas)\n"
          ]
        }
      ]
    }
  ]
}